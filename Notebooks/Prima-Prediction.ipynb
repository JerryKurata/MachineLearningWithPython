{
 "cells": [
  {
   "cell_type": "markdown",
   "id": "ea873a7e-ab7f-4712-ac95-1ce3bdc6c1ed",
   "metadata": {},
   "source": [
    "# Predicting Diabetes\n",
    "## Steps to prepare data\n",
    "* use Pandas to read in data\n",
    "* identify correlated features\n",
    "* clean data - removing any correlated features\n",
    "* mold data - convert data into suitable format\n",
    "* check True/False ratio to ensure data can be used for prediction"
   ]
  },
  {
   "cell_type": "code",
   "execution_count": null,
   "id": "412ce875-af31-429c-9f59-3a257b57f6d9",
   "metadata": {},
   "outputs": [],
   "source": [
    "import pandas as pd\n",
    "import matplotlib.pyplot as plt\n",
    "import numpy as np\n",
    "\n",
    "# do plotting inline instead of in a separate window\n",
    "%matplotlib inline"
   ]
  },
  {
   "cell_type": "markdown",
   "id": "8a90cb36-9c06-4aa5-bf86-429d90fcd989",
   "metadata": {},
   "source": [
    "## Load and review data"
   ]
  },
  {
   "cell_type": "code",
   "execution_count": null,
   "id": "719274a4-dacd-408b-8a9c-45562b18536a",
   "metadata": {},
   "outputs": [],
   "source": [
    "df = pd.read_csv('./data/pima-data.csv')"
   ]
  },
  {
   "cell_type": "code",
   "execution_count": null,
   "id": "cc427e95-4a5d-4e05-9577-6838064d8754",
   "metadata": {},
   "outputs": [],
   "source": [
    "df.shape"
   ]
  },
  {
   "cell_type": "code",
   "execution_count": null,
   "id": "2e0b9599-ff66-4c06-8ef0-7759f209e1e6",
   "metadata": {},
   "outputs": [],
   "source": [
    "df.head(5)"
   ]
  },
  {
   "cell_type": "code",
   "execution_count": null,
   "id": "1ec49c80-df4a-4eee-bac4-b386c496ed21",
   "metadata": {},
   "outputs": [],
   "source": [
    "df.tail(5)"
   ]
  },
  {
   "cell_type": "markdown",
   "id": "eadef0bf-881a-45b3-ba1b-31ff1f6529bb",
   "metadata": {},
   "source": [
    "## Check for null values"
   ]
  },
  {
   "cell_type": "code",
   "execution_count": null,
   "id": "c111ded5-1f3b-4e02-a518-37f24b2f0c22",
   "metadata": {},
   "outputs": [],
   "source": [
    "df.isnull().values.any()"
   ]
  },
  {
   "cell_type": "markdown",
   "id": "d51d14d7-e3c6-413c-af32-c6e473b412db",
   "metadata": {},
   "source": [
    "## Check for correlations"
   ]
  },
  {
   "cell_type": "code",
   "execution_count": null,
   "id": "d0d3242d-217e-496b-a82a-f77b5e1068e5",
   "metadata": {},
   "outputs": [],
   "source": [
    "def plot_corr(df, size=11):\n",
    "    \"\"\"\n",
    "    Function plots a graphical correlation matrix for each pair of columns in the dataframe.\n",
    "\n",
    "    Input:\n",
    "        df: pandas DataFrame\n",
    "        size: vertical and horizontal size of the plot\n",
    "\n",
    "    Displays:\n",
    "        matrix of correlation between columns. Blue-cyan-yellow-red-darkred => less to more correlated\n",
    "                                               0 ------------------> 1\n",
    "                                               Expect a darkened line running from top left to bottom right\n",
    "    \"\"\"\n",
    "\n",
    "    corr = df.corr()\n",
    "    fig, ax = plt.subplots(figsize=(size, size))\n",
    "    ax.matshow(corr) # color code the rectangles by correlation value\n",
    "    plt.xticks(range(len(corr.columns)), corr.columns) # draw x tick marks\n",
    "    plt.yticks(range(len(corr.columns)), corr.columns) # draw y tick marks"
   ]
  },
  {
   "cell_type": "code",
   "execution_count": null,
   "id": "f207e79e-8e6c-4e02-a76e-c13d8accf52e",
   "metadata": {},
   "outputs": [],
   "source": [
    "# invoke correlation crossplot\n",
    "plot_corr(df)"
   ]
  },
  {
   "cell_type": "markdown",
   "id": "07e46266-d5fc-4013-920a-6a7cde3e479c",
   "metadata": {},
   "source": [
    "Check the correlation between skin and thickness"
   ]
  },
  {
   "cell_type": "code",
   "execution_count": null,
   "id": "19e29907-13da-4878-96d3-d4bc93fab6d4",
   "metadata": {},
   "outputs": [],
   "source": [
    "df.corr()"
   ]
  },
  {
   "cell_type": "code",
   "execution_count": null,
   "id": "f70988f3-0929-4ff6-a6c7-1e57477768a9",
   "metadata": {},
   "outputs": [],
   "source": [
    "del df['skin']"
   ]
  },
  {
   "cell_type": "markdown",
   "id": "99a9f1d0-5001-40a4-88ea-8ce92517eb8d",
   "metadata": {},
   "source": [
    "## Check Data Types"
   ]
  },
  {
   "cell_type": "code",
   "execution_count": null,
   "id": "770b60b9-eec6-4e93-be5f-1f12cd43f8b9",
   "metadata": {},
   "outputs": [],
   "source": [
    "df.head(5)"
   ]
  },
  {
   "cell_type": "markdown",
   "id": "0d5675d3-4287-4646-bc85-bb59f9595860",
   "metadata": {},
   "source": [
    "Change True to 1, False to 0"
   ]
  },
  {
   "cell_type": "code",
   "execution_count": null,
   "id": "2fe71f79-89ac-4d0a-bd58-a7363cf75e63",
   "metadata": {},
   "outputs": [],
   "source": [
    "diabetes_map = { True: 1, False: 0}"
   ]
  },
  {
   "cell_type": "code",
   "execution_count": null,
   "id": "0aa1467d-3e6f-416a-ae66-75f21e78b330",
   "metadata": {},
   "outputs": [],
   "source": [
    "df['diabetes'] = df['diabetes'].map(diabetes_map)"
   ]
  },
  {
   "cell_type": "code",
   "execution_count": null,
   "id": "510b1ec9-1db6-49e2-9af2-2fb52a6b5769",
   "metadata": {},
   "outputs": [],
   "source": [
    "df.head(5)"
   ]
  },
  {
   "cell_type": "markdown",
   "id": "4a634688-eb14-447d-80ed-9822afa602fc",
   "metadata": {},
   "source": [
    "## Check true/false ratio"
   ]
  },
  {
   "cell_type": "code",
   "execution_count": null,
   "id": "eb907ac0-16e3-4824-b087-cce9fc44c9de",
   "metadata": {},
   "outputs": [],
   "source": [
    "num_true = len(df.loc[df['diabetes'] == True])\n",
    "num_false = len(df.loc[df['diabetes'] == False])\n",
    "print('Number of True cases:  {0} ({1:2.2f}%)'.format(num_true, (num_true / (num_true + num_false)) * 100))\n",
    "print('Number of False cases: {0} ({1:2.2f}%)'.format(num_false, (num_false / (num_true + num_false)) * 100))"
   ]
  },
  {
   "cell_type": "markdown",
   "id": "f2bf4a42-73fb-4c20-99b0-590010786d89",
   "metadata": {},
   "source": [
    "## Training the model\n",
    "### Splitting the data\n",
    "70% for training, 30% for testing"
   ]
  },
  {
   "cell_type": "code",
   "execution_count": null,
   "id": "a354ce9f-07ca-4e1f-9a2c-5af779869857",
   "metadata": {},
   "outputs": [],
   "source": [
    "from sklearn.model_selection import train_test_split\n",
    "\n",
    "feature_col_names = ['num_preg', 'glucose_conc', 'diastolic_bp', 'thickness', 'insulin', 'bmi', 'diab_pred', 'age']\n",
    "predicted_class_namees = ['diabetes']\n",
    "\n",
    "X = df[feature_col_names].values # predictor feature columns (8 X m)\n",
    "y = df[predicted_class_namees].values # predicted class (1=true, 0=false) column (1 x m)\n",
    "split_test_size = 0.30\n",
    "\n",
    "X_train, X_test, y_train, y_test = train_test_split(X, y, test_size=split_test_size, random_state=42)"
   ]
  },
  {
   "cell_type": "markdown",
   "id": "8a11e136-4928-4d38-a92d-776f735728fe",
   "metadata": {},
   "source": [
    "We check to ensure we have the desired 70% train, 30% test split of the data"
   ]
  },
  {
   "cell_type": "code",
   "execution_count": null,
   "id": "0d578284-9e6c-4627-a6bd-5877553eed21",
   "metadata": {},
   "outputs": [],
   "source": [
    "print('{0:0.2f}% in training set'.format((len(X_train) / len(df.index)) * 100))\n",
    "print('{0:0.2f}% in test set'.format((len(X_test) / len(df.index)) * 100))"
   ]
  },
  {
   "cell_type": "markdown",
   "id": "f5a67ee4-a539-429f-b9cd-c06195b5ddf7",
   "metadata": {},
   "source": [
    "Verifying predicated value was split correctly"
   ]
  },
  {
   "cell_type": "code",
   "execution_count": null,
   "id": "301b9bcc-9903-4722-a804-d122a138b252",
   "metadata": {},
   "outputs": [],
   "source": [
    "print(\"Original True   : {0} ({1:0.2f}%)\".format(len(df.loc[df['diabetes'] == 1]), (len(df.loc[df['diabetes'] == 1])/len(df.index)) * 100.0))\n",
    "print(\"Original False  : {0} ({1:0.2f}%)\".format(len(df.loc[df['diabetes'] == 0]), (len(df.loc[df['diabetes'] == 0])/len(df.index)) * 100.0))\n",
    "print(\"\")\n",
    "print(\"Training True   : {0} ({1:0.2f}%)\".format(len([i for i in y_train if i == 1]), (len([i for i in y_train if i == 1])/len(y_train) * 100.0)))\n",
    "print(\"Training False  : {0} ({1:0.2f}%)\".format(len([i for i in y_train if i == 0]), (len([i for i in y_train if i == 0])/len(y_train) * 100.0)))\n",
    "print(\"\")\n",
    "print(\"Test True       : {0} ({1:0.2f}%)\".format(len([i for i in y_test if i == 1]), (len([i for i in y_test if i == 1])/len(y_test) * 100.0)))\n",
    "print(\"Test False      : {0} ({1:0.2f}%)\".format(len([i for i in y_test if i == 0]), (len([i for i in y_test if i == 0])/len(y_test) * 100.0)))"
   ]
  },
  {
   "cell_type": "markdown",
   "id": "ce1c269f-bd7b-4ccb-bded-9bef2eb6c497",
   "metadata": {},
   "source": [
    "### Hidden Missing Values\n",
    "Are \"0\" values possible? See thickness and insulin features"
   ]
  },
  {
   "cell_type": "code",
   "execution_count": null,
   "id": "6df55d26-5632-4dcc-a592-3d3164313d26",
   "metadata": {},
   "outputs": [],
   "source": [
    "df.head()"
   ]
  },
  {
   "cell_type": "markdown",
   "id": "7157c7c2-7ad7-47f9-977c-d3f4aa20fa16",
   "metadata": {},
   "source": [
    "How many rows have unexpected 0 values?"
   ]
  },
  {
   "cell_type": "code",
   "execution_count": null,
   "id": "5cf190d5-41cf-471b-a20c-f7d217541f3f",
   "metadata": {},
   "outputs": [],
   "source": [
    "print(\"# rows in dataframe {0}\".format(len(df)))\n",
    "print(\"# rows missing glucose_conc: {0}\".format(len(df.loc[df['glucose_conc'] == 0])))\n",
    "print(\"# rows missing diastolic_bp: {0}\".format(len(df.loc[df['diastolic_bp'] == 0])))\n",
    "print(\"# rows missing thickness: {0}\".format(len(df.loc[df['thickness'] == 0])))\n",
    "print(\"# rows missing insulin: {0}\".format(len(df.loc[df['insulin'] == 0])))\n",
    "print(\"# rows missing bmi: {0}\".format(len(df.loc[df['bmi'] == 0])))\n",
    "print(\"# rows missing diab_pred: {0}\".format(len(df.loc[df['diab_pred'] == 0])))\n",
    "print(\"# rows missing age: {0}\".format(len(df.loc[df['age'] == 0])))"
   ]
  },
  {
   "cell_type": "markdown",
   "id": "8cea75ce-4b07-4f17-8340-c8168980438a",
   "metadata": {},
   "source": [
    "### Inpute with the mean"
   ]
  },
  {
   "cell_type": "code",
   "execution_count": null,
   "id": "b16e6b2a-94e3-4e13-8e56-84f14120ccac",
   "metadata": {},
   "outputs": [],
   "source": [
    "from sklearn.impute import SimpleImputer\n",
    "\n",
    "# Impute with mean all 0 readings\n",
    "fill_0 = SimpleImputer(missing_values=0, strategy=\"mean\")\n",
    "\n",
    "X_train = fill_0.fit_transform(X_train)\n",
    "X_test = fill_0.fit_transform(X_test)"
   ]
  },
  {
   "cell_type": "markdown",
   "id": "d5a96062-51fe-4b17-9064-f03ca22c61c7",
   "metadata": {},
   "source": [
    "### Training Initial Algorithm - Naive Bayes"
   ]
  },
  {
   "cell_type": "code",
   "execution_count": null,
   "id": "50f5ce18-b748-4021-a27e-a3180f5aa94b",
   "metadata": {},
   "outputs": [],
   "source": [
    "from sklearn.naive_bayes import GaussianNB\n",
    "\n",
    "# create Gaussian Naive Bayes model object and train it with the data\n",
    "nb_model = GaussianNB()\n",
    "nb_model.fit(X_train, y_train.ravel())"
   ]
  },
  {
   "cell_type": "markdown",
   "id": "1432d3e5-f3f7-4f1f-975d-e9c1e097fe17",
   "metadata": {},
   "source": [
    "## Evaluating the Model\n",
    "### Performance on Training Data"
   ]
  },
  {
   "cell_type": "code",
   "execution_count": null,
   "id": "d337f03f-e862-4398-87f7-517edeb8ffc3",
   "metadata": {},
   "outputs": [],
   "source": [
    "# predict values using the training data\n",
    "nb_predict_train = nb_model.predict(X_train)\n",
    "\n",
    "# import the performance metrics library\n",
    "from sklearn import metrics\n",
    "\n",
    "# Accuracy\n",
    "print('Accuracy: {0:.4f}'.format(metrics.accuracy_score(y_train, nb_predict_train)))"
   ]
  },
  {
   "cell_type": "markdown",
   "id": "ceab7108-37a7-4e8d-a240-53c0a97b2d90",
   "metadata": {},
   "source": [
    "### Performance on Testing Data"
   ]
  },
  {
   "cell_type": "code",
   "execution_count": null,
   "id": "cb11c9ca-4a21-4b12-ab66-e79ae396809c",
   "metadata": {},
   "outputs": [],
   "source": [
    "# predict values using the testing data\n",
    "nb_predict_test = nb_model.predict(X_test)\n",
    "\n",
    "print('Accuracy: {0:.4f}'.format(metrics.accuracy_score(y_test, nb_predict_test)))"
   ]
  },
  {
   "cell_type": "markdown",
   "id": "3e41e4ce-076a-44c9-9dc9-e3d4a184c9d4",
   "metadata": {},
   "source": [
    "### Metrics\n",
    "*Confusion Matrix - compares the predicted natural result for diabetes.*\n",
    "\n",
    "```\n",
    "Columns are predicted values\n",
    "Left column is predicated false\n",
    "Right column is predicated true\n",
    "Top row is actual false\n",
    "Bottom row is actual true\n",
    "TN FP\n",
    "FN TP\n",
    "\n",
    "TN=true negative, actual not diabetes and predicted to be not diabetes.\n",
    "FP=false positive, actual not diabetes, but predicted to be diabetes.\n",
    "FN=false negative, actual diabetes, but predicted to be not diabetes.\n",
    "TP=true positive, actual diabetes and predicted to be diabetes.\n",
    "\n",
    "\"Perfect\" classifier would return 0 for both FP and FN.\n",
    "```\n",
    "\n",
    "*Classification Report*\n",
    "\n",
    "Recall is also known as the true positive rate and sensitivity.\n",
    "It is measuring how well the model predicts diabetes when the result is actually diabetes.\n",
    "Precision is also known as the positive predictor value.\n",
    "This is how often the patient actually had diabetes when the model said they would.\n",
    "We want fewer false positives."
   ]
  },
  {
   "cell_type": "code",
   "execution_count": null,
   "id": "9176a4de-c60c-431d-b2e2-546806567cca",
   "metadata": {},
   "outputs": [],
   "source": [
    "print('Confusion Matrix')\n",
    "print('{0}'.format(metrics.confusion_matrix(y_test, nb_predict_test)))\n",
    "print('')\n",
    "\n",
    "print('Classification Report')\n",
    "print(metrics.classification_report(y_test, nb_predict_test))"
   ]
  },
  {
   "cell_type": "markdown",
   "id": "8d54d01f-73dd-4dba-8f7d-83b6d7aa00fd",
   "metadata": {},
   "source": [
    "## Random Forest"
   ]
  },
  {
   "cell_type": "code",
   "execution_count": null,
   "id": "c537ef9f-b5fe-449e-b5b3-5a529efb30b4",
   "metadata": {},
   "outputs": [],
   "source": [
    "from sklearn.ensemble import RandomForestClassifier\n",
    "rf_model = RandomForestClassifier(random_state=42)\n",
    "rf_model.fit(X_train, y_train.ravel())"
   ]
  },
  {
   "cell_type": "markdown",
   "id": "b9b904b3-e72d-4592-a8e7-3c020ef6c952",
   "metadata": {},
   "source": [
    "### Predict Training Data"
   ]
  },
  {
   "cell_type": "code",
   "execution_count": null,
   "id": "0c4fad74-f248-4364-b277-7951f0442385",
   "metadata": {},
   "outputs": [],
   "source": [
    "rf_predict_train = rf_model.predict(X_train)\n",
    "\n",
    "print('Accuracy: {0:.4f}'.format(metrics.accuracy_score(y_train, rf_predict_train)))"
   ]
  },
  {
   "cell_type": "markdown",
   "id": "f22305a5-6ddc-4136-ae69-3b82938ad305",
   "metadata": {},
   "source": [
    "Predict Testing Data"
   ]
  },
  {
   "cell_type": "code",
   "execution_count": null,
   "id": "826f228e-cf17-4dbf-a34f-efaf981011de",
   "metadata": {},
   "outputs": [],
   "source": [
    "rf_predict_test = rf_model.predict(X_test)\n",
    "\n",
    "print('Accuracy: {0:.4f}'.format(metrics.accuracy_score(y_test, rf_predict_test)))"
   ]
  },
  {
   "cell_type": "markdown",
   "id": "c220ee67-9304-4fd0-b43b-d2740c733d38",
   "metadata": {},
   "source": [
    "## Logistic Regression"
   ]
  },
  {
   "cell_type": "code",
   "execution_count": null,
   "id": "7ff8bcb0-2526-403d-83ef-a1ce03595daa",
   "metadata": {},
   "outputs": [],
   "source": [
    "from sklearn.linear_model import LogisticRegression\n",
    "\n",
    "lr_model = LogisticRegression(C=0.7, random_state=42, solver='liblinear', max_iter=10000) # C = the regularisation hyperparameter\n",
    "lr_model.fit(X_train, y_train.ravel())\n",
    "lr_predict_test = lr_model.predict(X_test)\n",
    "\n",
    "# Training metrics\n",
    "print('Accuracy: {0:.4f}'.format(metrics.accuracy_score(y_test, lr_predict_test)))\n",
    "print('Confusion Matrix')\n",
    "print('{0}'.format(metrics.confusion_matrix(y_test, lr_predict_test)))\n",
    "print('')\n",
    "print('Classification Report')\n",
    "print(metrics.classification_report(y_test, lr_predict_test))"
   ]
  },
  {
   "cell_type": "markdown",
   "id": "73e43476-af21-4592-ba5b-618e25302793",
   "metadata": {},
   "source": [
    "Setting regularisation parameter"
   ]
  },
  {
   "cell_type": "code",
   "execution_count": null,
   "id": "7b03e470-5909-46e6-aae1-7e3b9befded8",
   "metadata": {},
   "outputs": [],
   "source": [
    "# Get the C value that plots the highest recall score\n",
    "C_start = 0.1\n",
    "C_end = 5\n",
    "C_inc = 0.1\n",
    "\n",
    "C_values, recall_scores = [], []\n",
    "\n",
    "C_val = C_start\n",
    "best_recall_score = 0\n",
    "while (C_val < C_end):\n",
    "    C_values.append(C_val)\n",
    "    lr_model_loop = LogisticRegression(C=C_val, random_state=42, solver='liblinear')\n",
    "    lr_model_loop.fit(X_train, y_train.ravel())\n",
    "    lr_predict_loop_test = lr_model_loop.predict(X_test)\n",
    "    recall_score = metrics.recall_score(y_test, lr_predict_loop_test)\n",
    "    recall_scores.append(recall_score)\n",
    "    if (recall_score > best_recall_score):\n",
    "        best_recall_score = recall_score\n",
    "        best_lr_predict_test = lr_predict_loop_test\n",
    "        \n",
    "    C_val = C_val + C_inc\n",
    "\n",
    "best_score_C_val = C_values[recall_scores.index(best_recall_score)]\n",
    "print(\"1st max value of {0:.3f} occured at C={1:.3f}\".format(best_recall_score, best_score_C_val))\n",
    "\n",
    "%matplotlib inline \n",
    "plt.plot(C_values, recall_scores, \"-\")\n",
    "plt.xlabel(\"C value\")\n",
    "plt.ylabel(\"recall score\")"
   ]
  },
  {
   "cell_type": "markdown",
   "id": "1686cc45-a296-402d-acf6-fdf5f0a156ba",
   "metadata": {},
   "source": [
    "### Logistic regression with class_weight='balanced'"
   ]
  },
  {
   "cell_type": "code",
   "execution_count": null,
   "id": "7a75cd89-364a-47e1-93bd-c315882ae0d6",
   "metadata": {},
   "outputs": [],
   "source": [
    "C_start = 0.1\n",
    "C_end = 5\n",
    "C_inc = 0.1\n",
    "\n",
    "C_values, recall_scores = [], []\n",
    "\n",
    "C_val = C_start\n",
    "best_recall_score = 0\n",
    "while (C_val < C_end):\n",
    "    C_values.append(C_val)\n",
    "    lr_model_loop = LogisticRegression(C=C_val, random_state=42, solver='liblinear', class_weight='balanced')\n",
    "    lr_model_loop.fit(X_train, y_train.ravel())\n",
    "    lr_predict_loop_test = lr_model_loop.predict(X_test)\n",
    "    recall_score = metrics.recall_score(y_test, lr_predict_loop_test)\n",
    "    recall_scores.append(recall_score)\n",
    "    if (recall_score > best_recall_score):\n",
    "        best_recall_score = recall_score\n",
    "        best_lr_predict_test = lr_predict_loop_test\n",
    "        \n",
    "    C_val = C_val + C_inc\n",
    "\n",
    "best_score_C_val = C_values[recall_scores.index(best_recall_score)]\n",
    "print(\"1st max value of {0:.3f} occured at C={1:.3f}\".format(best_recall_score, best_score_C_val))\n",
    "\n",
    "%matplotlib inline \n",
    "plt.plot(C_values, recall_scores, \"-\")\n",
    "plt.xlabel(\"C value\")\n",
    "plt.ylabel(\"recall score\")"
   ]
  },
  {
   "cell_type": "code",
   "execution_count": null,
   "id": "ffc88095-fadd-4891-b98f-80e59900e7cd",
   "metadata": {},
   "outputs": [],
   "source": [
    "lr_model = LogisticRegression(C=best_score_C_val, class_weight='balanced', random_state=42, solver='liblinear', max_iter=10000)\n",
    "lr_model.fit(X_train, y_train.ravel())\n",
    "lr_predict_test = lr_model.predict(X_test)\n",
    "\n",
    "# Training metrics\n",
    "print('Accuracy: {0:.4f}'.format(metrics.accuracy_score(y_test, lr_predict_test)))\n",
    "print('Confusion Matrix')\n",
    "print('{0}'.format(metrics.confusion_matrix(y_test, lr_predict_test)))\n",
    "print('')\n",
    "print('Classification Report')\n",
    "print(metrics.classification_report(y_test, lr_predict_test))"
   ]
  },
  {
   "cell_type": "code",
   "execution_count": null,
   "id": "7014bf34-b6cf-4304-838e-3abcd2dbb9fe",
   "metadata": {},
   "outputs": [],
   "source": [
    "### LogisticsRegressionCV"
   ]
  },
  {
   "cell_type": "code",
   "execution_count": null,
   "id": "6866f293-52c8-44d0-ad2d-3cd6c35d4f38",
   "metadata": {},
   "outputs": [],
   "source": [
    "from sklearn.linear_model import LogisticRegressionCV\n",
    "lr_cv_model = LogisticRegressionCV(n_jobs=-1, random_state=42, Cs=3, cv=10, refit=False, class_weight='balanced', max_iter=500)\n",
    "lr_cv_model.fit(X_train, y_train.ravel())"
   ]
  },
  {
   "cell_type": "markdown",
   "id": "0e85dab0-1ab1-48f8-a8fb-7aa9ad674e04",
   "metadata": {},
   "source": [
    "### Predict on Testing data"
   ]
  },
  {
   "cell_type": "code",
   "execution_count": null,
   "id": "0169a172-84dc-432b-9386-952bd6067e7b",
   "metadata": {},
   "outputs": [],
   "source": [
    "lr_cv_predict_test = lr_cv_model.predict(X_test)\n",
    "\n",
    "# training metrics\n",
    "print(\"Accuracy: {0:.4f}\".format(metrics.accuracy_score(y_test, lr_cv_predict_test)))\n",
    "print(metrics.confusion_matrix(y_test, lr_cv_predict_test) )\n",
    "print(\"\")\n",
    "print(\"Classification Report\")\n",
    "print(metrics.classification_report(y_test, lr_cv_predict_test))"
   ]
  },
  {
   "cell_type": "code",
   "execution_count": null,
   "id": "871f11c9-445c-4e1a-bdf8-77c284c6d4c3",
   "metadata": {},
   "outputs": [],
   "source": []
  }
 ],
 "metadata": {
  "kernelspec": {
   "display_name": "Python 3 (ipykernel)",
   "language": "python",
   "name": "python3"
  },
  "language_info": {
   "codemirror_mode": {
    "name": "ipython",
    "version": 3
   },
   "file_extension": ".py",
   "mimetype": "text/x-python",
   "name": "python",
   "nbconvert_exporter": "python",
   "pygments_lexer": "ipython3",
   "version": "3.10.12"
  }
 },
 "nbformat": 4,
 "nbformat_minor": 5
}
