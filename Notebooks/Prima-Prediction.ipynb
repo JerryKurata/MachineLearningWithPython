{
 "cells": [
  {
   "cell_type": "markdown",
   "id": "ea873a7e-ab7f-4712-ac95-1ce3bdc6c1ed",
   "metadata": {},
   "source": [
    "# Predicting Diabetes\n",
    "## Steps to prepare data\n",
    "* use Pandas to read in data\n",
    "* identify correlated features\n",
    "* clean data - removing any correlated features\n",
    "* mold data - convert data into suitable format\n",
    "* check True/False ratio to ensure data can be used for prediction"
   ]
  },
  {
   "cell_type": "code",
   "execution_count": null,
   "id": "412ce875-af31-429c-9f59-3a257b57f6d9",
   "metadata": {},
   "outputs": [],
   "source": [
    "import pandas as pd\n",
    "import matplotlib.pyplot as plt\n",
    "import numpy as np\n",
    "\n",
    "# do plotting inline instead of in a separate window\n",
    "%matplotlib inline"
   ]
  },
  {
   "cell_type": "markdown",
   "id": "8a90cb36-9c06-4aa5-bf86-429d90fcd989",
   "metadata": {},
   "source": [
    "## Load and review data"
   ]
  },
  {
   "cell_type": "code",
   "execution_count": null,
   "id": "719274a4-dacd-408b-8a9c-45562b18536a",
   "metadata": {},
   "outputs": [],
   "source": [
    "df = pd.read_csv('./data/pima-data.csv')"
   ]
  },
  {
   "cell_type": "code",
   "execution_count": null,
   "id": "cc427e95-4a5d-4e05-9577-6838064d8754",
   "metadata": {},
   "outputs": [],
   "source": [
    "df.shape"
   ]
  },
  {
   "cell_type": "code",
   "execution_count": null,
   "id": "2e0b9599-ff66-4c06-8ef0-7759f209e1e6",
   "metadata": {},
   "outputs": [],
   "source": [
    "df.head(5)"
   ]
  },
  {
   "cell_type": "code",
   "execution_count": null,
   "id": "1ec49c80-df4a-4eee-bac4-b386c496ed21",
   "metadata": {},
   "outputs": [],
   "source": [
    "df.tail(5)"
   ]
  },
  {
   "cell_type": "markdown",
   "id": "eadef0bf-881a-45b3-ba1b-31ff1f6529bb",
   "metadata": {},
   "source": [
    "## Check for null values"
   ]
  },
  {
   "cell_type": "code",
   "execution_count": null,
   "id": "c111ded5-1f3b-4e02-a518-37f24b2f0c22",
   "metadata": {},
   "outputs": [],
   "source": [
    "df.isnull().values.any()"
   ]
  },
  {
   "cell_type": "markdown",
   "id": "d51d14d7-e3c6-413c-af32-c6e473b412db",
   "metadata": {},
   "source": [
    "## Check for correlations"
   ]
  },
  {
   "cell_type": "code",
   "execution_count": null,
   "id": "d0d3242d-217e-496b-a82a-f77b5e1068e5",
   "metadata": {},
   "outputs": [],
   "source": [
    "def plot_corr(df, size=11):\n",
    "    \"\"\"\n",
    "    Function plots a graphical correlation matrix for each pair of columns in the dataframe.\n",
    "\n",
    "    Input:\n",
    "        df: pandas DataFrame\n",
    "        size: vertical and horizontal size of the plot\n",
    "\n",
    "    Displays:\n",
    "        matrix of correlation between columns. Blue-cyan-yellow-red-darkred => less to more correlated\n",
    "                                               0 ------------------> 1\n",
    "                                               Expect a darkened line running from top left to bottom right\n",
    "    \"\"\"\n",
    "\n",
    "    corr = df.corr()\n",
    "    fig, ax = plt.subplots(figsize=(size, size))\n",
    "    ax.matshow(corr) # color code the rectangles by correlation value\n",
    "    plt.xticks(range(len(corr.columns)), corr.columns) # draw x tick marks\n",
    "    plt.yticks(range(len(corr.columns)), corr.columns) # draw y tick marks"
   ]
  },
  {
   "cell_type": "code",
   "execution_count": null,
   "id": "f207e79e-8e6c-4e02-a76e-c13d8accf52e",
   "metadata": {},
   "outputs": [],
   "source": [
    "# invoke correlation crossplot\n",
    "plot_corr(df)"
   ]
  },
  {
   "cell_type": "markdown",
   "id": "07e46266-d5fc-4013-920a-6a7cde3e479c",
   "metadata": {},
   "source": [
    "Check the correlation between skin and thickness"
   ]
  },
  {
   "cell_type": "code",
   "execution_count": null,
   "id": "19e29907-13da-4878-96d3-d4bc93fab6d4",
   "metadata": {},
   "outputs": [],
   "source": [
    "df.corr()"
   ]
  },
  {
   "cell_type": "code",
   "execution_count": null,
   "id": "f70988f3-0929-4ff6-a6c7-1e57477768a9",
   "metadata": {},
   "outputs": [],
   "source": [
    "del df['skin']"
   ]
  },
  {
   "cell_type": "markdown",
   "id": "99a9f1d0-5001-40a4-88ea-8ce92517eb8d",
   "metadata": {},
   "source": [
    "## Check Data Types"
   ]
  },
  {
   "cell_type": "code",
   "execution_count": null,
   "id": "770b60b9-eec6-4e93-be5f-1f12cd43f8b9",
   "metadata": {},
   "outputs": [],
   "source": [
    "df.head(5)"
   ]
  },
  {
   "cell_type": "markdown",
   "id": "0d5675d3-4287-4646-bc85-bb59f9595860",
   "metadata": {},
   "source": [
    "Change True to 1, False to 0"
   ]
  },
  {
   "cell_type": "code",
   "execution_count": null,
   "id": "2fe71f79-89ac-4d0a-bd58-a7363cf75e63",
   "metadata": {},
   "outputs": [],
   "source": [
    "diabetes_map = { True: 1, False: 0}"
   ]
  },
  {
   "cell_type": "code",
   "execution_count": null,
   "id": "0aa1467d-3e6f-416a-ae66-75f21e78b330",
   "metadata": {},
   "outputs": [],
   "source": [
    "df['diabetes'] = df['diabetes'].map(diabetes_map)"
   ]
  },
  {
   "cell_type": "code",
   "execution_count": null,
   "id": "510b1ec9-1db6-49e2-9af2-2fb52a6b5769",
   "metadata": {},
   "outputs": [],
   "source": [
    "df.head(5)"
   ]
  },
  {
   "cell_type": "markdown",
   "id": "4a634688-eb14-447d-80ed-9822afa602fc",
   "metadata": {},
   "source": [
    "## Check true/false ratio"
   ]
  },
  {
   "cell_type": "code",
   "execution_count": null,
   "id": "eb907ac0-16e3-4824-b087-cce9fc44c9de",
   "metadata": {},
   "outputs": [],
   "source": [
    "num_true = len(df.loc[df['diabetes'] == True])\n",
    "num_false = len(df.loc[df['diabetes'] == False])\n",
    "print('Number of True cases:  {0} ({1:2.2f}%)'.format(num_true, (num_true / (num_true + num_false)) * 100))\n",
    "print('Number of False cases: {0} ({1:2.2f}%)'.format(num_false, (num_false / (num_true + num_false)) * 100))"
   ]
  },
  {
   "cell_type": "code",
   "execution_count": null,
   "id": "98bbe40c-6613-40e0-993d-ca7df7dd1656",
   "metadata": {},
   "outputs": [],
   "source": []
  }
 ],
 "metadata": {
  "kernelspec": {
   "display_name": "Python 3 (ipykernel)",
   "language": "python",
   "name": "python3"
  },
  "language_info": {
   "codemirror_mode": {
    "name": "ipython",
    "version": 3
   },
   "file_extension": ".py",
   "mimetype": "text/x-python",
   "name": "python",
   "nbconvert_exporter": "python",
   "pygments_lexer": "ipython3",
   "version": "3.10.12"
  }
 },
 "nbformat": 4,
 "nbformat_minor": 5
}
